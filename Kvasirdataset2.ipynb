{
  "nbformat": 4,
  "nbformat_minor": 0,
  "metadata": {
    "colab": {
      "name": "Kvasirdataset2.ipynb",
      "provenance": [],
      "collapsed_sections": []
    },
    "kernelspec": {
      "name": "python3",
      "display_name": "Python 3"
    },
    "accelerator": "TPU"
  },
  "cells": [
    {
      "cell_type": "code",
      "metadata": {
        "id": "braEFIFJykRX",
        "colab_type": "code",
        "colab": {
          "base_uri": "https://localhost:8080/",
          "height": 224
        },
        "outputId": "2c78b20c-e48d-4ec5-f924-a7a1110058df"
      },
      "source": [
        "!pip install kaggle"
      ],
      "execution_count": 2,
      "outputs": [
        {
          "output_type": "stream",
          "text": [
            "Requirement already satisfied: kaggle in /usr/local/lib/python3.6/dist-packages (1.5.6)\n",
            "Requirement already satisfied: urllib3<1.25,>=1.21.1 in /usr/local/lib/python3.6/dist-packages (from kaggle) (1.24.3)\n",
            "Requirement already satisfied: python-dateutil in /usr/local/lib/python3.6/dist-packages (from kaggle) (2.8.1)\n",
            "Requirement already satisfied: python-slugify in /usr/local/lib/python3.6/dist-packages (from kaggle) (4.0.0)\n",
            "Requirement already satisfied: tqdm in /usr/local/lib/python3.6/dist-packages (from kaggle) (4.38.0)\n",
            "Requirement already satisfied: certifi in /usr/local/lib/python3.6/dist-packages (from kaggle) (2020.4.5.1)\n",
            "Requirement already satisfied: requests in /usr/local/lib/python3.6/dist-packages (from kaggle) (2.21.0)\n",
            "Requirement already satisfied: six>=1.10 in /usr/local/lib/python3.6/dist-packages (from kaggle) (1.12.0)\n",
            "Requirement already satisfied: text-unidecode>=1.3 in /usr/local/lib/python3.6/dist-packages (from python-slugify->kaggle) (1.3)\n",
            "Requirement already satisfied: chardet<3.1.0,>=3.0.2 in /usr/local/lib/python3.6/dist-packages (from requests->kaggle) (3.0.4)\n",
            "Requirement already satisfied: idna<2.9,>=2.5 in /usr/local/lib/python3.6/dist-packages (from requests->kaggle) (2.8)\n"
          ],
          "name": "stdout"
        }
      ]
    },
    {
      "cell_type": "code",
      "metadata": {
        "id": "qU9gE_37y1RV",
        "colab_type": "code",
        "colab": {
          "resources": {
            "http://localhost:8080/nbextensions/google.colab/files.js": {
              "data": "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",
              "ok": true,
              "headers": [
                [
                  "content-type",
                  "application/javascript"
                ]
              ],
              "status": 200,
              "status_text": ""
            }
          },
          "base_uri": "https://localhost:8080/",
          "height": 88
        },
        "outputId": "89fb025e-ab66-4a1c-fcb1-5375d00a9f77"
      },
      "source": [
        "from google.colab import files\n",
        "files.upload()"
      ],
      "execution_count": 3,
      "outputs": [
        {
          "output_type": "display_data",
          "data": {
            "text/html": [
              "\n",
              "     <input type=\"file\" id=\"files-f1845b8a-9e32-48ef-b240-95aa5b063311\" name=\"files[]\" multiple disabled />\n",
              "     <output id=\"result-f1845b8a-9e32-48ef-b240-95aa5b063311\">\n",
              "      Upload widget is only available when the cell has been executed in the\n",
              "      current browser session. Please rerun this cell to enable.\n",
              "      </output>\n",
              "      <script src=\"/nbextensions/google.colab/files.js\"></script> "
            ],
            "text/plain": [
              "<IPython.core.display.HTML object>"
            ]
          },
          "metadata": {
            "tags": []
          }
        },
        {
          "output_type": "stream",
          "text": [
            "Saving kaggle.json to kaggle.json\n"
          ],
          "name": "stdout"
        },
        {
          "output_type": "execute_result",
          "data": {
            "text/plain": [
              "{'kaggle.json': b'{\"username\":\"matrikasubedi\",\"key\":\"a84a0fc56738f34df5e5a05dc85d333a\"}'}"
            ]
          },
          "metadata": {
            "tags": []
          },
          "execution_count": 3
        }
      ]
    },
    {
      "cell_type": "code",
      "metadata": {
        "id": "P2o1zdqFzBON",
        "colab_type": "code",
        "colab": {}
      },
      "source": [
        "!mkdir -p ~/.kaggle\n",
        "!cp kaggle.json ~/.kaggle/\n",
        "\n",
        "#change the permission\n",
        "!chmod 600 ~/.kaggle/kaggle.json"
      ],
      "execution_count": 0,
      "outputs": []
    },
    {
      "cell_type": "code",
      "metadata": {
        "id": "J4I8g5WfzIdy",
        "colab_type": "code",
        "colab": {
          "base_uri": "https://localhost:8080/",
          "height": 68
        },
        "outputId": "a34194cc-d003-4326-a975-2290cb1549fd"
      },
      "source": [
        "!kaggle datasets download -d ghraycee/kvasir-dataset"
      ],
      "execution_count": 5,
      "outputs": [
        {
          "output_type": "stream",
          "text": [
            "Downloading kvasir-dataset.zip to /content\n",
            "100% 4.64G/4.64G [01:05<00:00, 81.0MB/s]\n",
            "100% 4.64G/4.64G [01:05<00:00, 76.4MB/s]\n"
          ],
          "name": "stdout"
        }
      ]
    },
    {
      "cell_type": "code",
      "metadata": {
        "id": "Cheq-NDKzN--",
        "colab_type": "code",
        "colab": {
          "base_uri": "https://localhost:8080/",
          "height": 34
        },
        "outputId": "180ee2eb-9b4a-455d-dd0d-d3627f16ff76"
      },
      "source": [
        "from zipfile import ZipFile\n",
        "file_name = \"kvasir-dataset.zip\"\n",
        "\n",
        "with ZipFile(file_name,'r') as zip:\n",
        " zip.extractall()\n",
        " print('Done')"
      ],
      "execution_count": 6,
      "outputs": [
        {
          "output_type": "stream",
          "text": [
            "Done\n"
          ],
          "name": "stdout"
        }
      ]
    },
    {
      "cell_type": "code",
      "metadata": {
        "id": "9cfKaxGrzfaf",
        "colab_type": "code",
        "colab": {}
      },
      "source": [
        "from tensorflow.keras.applications import MobileNet\n",
        "from tensorflow.keras.models import Sequential,Model \n",
        "from tensorflow.keras.layers import Dense,Dropout,Activation,Flatten,GlobalAveragePooling2D\n",
        "from tensorflow.keras.layers import Conv2D,MaxPooling2D,ZeroPadding2D\n",
        "#from tensorflow.keras.layers.normalization import BatchNormalization\n",
        "from tensorflow.keras.preprocessing.image import ImageDataGenerator\n"
      ],
      "execution_count": 0,
      "outputs": []
    },
    {
      "cell_type": "code",
      "metadata": {
        "id": "CmCiyNm-z8oo",
        "colab_type": "code",
        "colab": {}
      },
      "source": [
        "img_rows,img_cols = 224,224\n",
        "\n",
        "MobileNet = MobileNet(weights='imagenet',include_top=False,input_shape=(img_rows,img_cols,3))\n"
      ],
      "execution_count": 0,
      "outputs": []
    },
    {
      "cell_type": "code",
      "metadata": {
        "id": "urX3hF1k0BQh",
        "colab_type": "code",
        "colab": {}
      },
      "source": [
        "for layer in MobileNet.layers:\n",
        "    layer.trainable = False\n",
        "\n",
        "# Let's print our layers\n",
        "#for (i,layer) in enumerate(MobileNet.layers):\n",
        "    #print(str(i),layer.__class__.__name__,layer.trainable)"
      ],
      "execution_count": 0,
      "outputs": []
    },
    {
      "cell_type": "code",
      "metadata": {
        "id": "FoJrrXcT0HKa",
        "colab_type": "code",
        "colab": {}
      },
      "source": [
        "def addTopModelMobileNet(bottom_model, num_classes):\n",
        "    \"\"\"creates the top or head of the model that will be \n",
        "    placed ontop of the bottom layers\"\"\"\n",
        "\n",
        "    top_model = bottom_model.output\n",
        "    top_model = GlobalAveragePooling2D()(top_model)\n",
        "    top_model = Dense(1024,activation='relu')(top_model)\n",
        "    \n",
        "    top_model = Dense(1024,activation='relu')(top_model)\n",
        "    \n",
        "    top_model = Dense(512,activation='relu')(top_model)\n",
        "    \n",
        "    top_model = Dense(num_classes,activation='softmax')(top_model)\n",
        "\n",
        "    return top_model"
      ],
      "execution_count": 0,
      "outputs": []
    },
    {
      "cell_type": "code",
      "metadata": {
        "id": "7YDZtGaG0PsY",
        "colab_type": "code",
        "colab": {}
      },
      "source": [
        "num_classes = 8\n",
        "\n",
        "FC_Head = addTopModelMobileNet(MobileNet, num_classes)\n",
        "\n",
        "model = Model(inputs = MobileNet.input, outputs = FC_Head)\n",
        "\n",
        "#print(model.summary())"
      ],
      "execution_count": 0,
      "outputs": []
    },
    {
      "cell_type": "code",
      "metadata": {
        "id": "kbKwbkIZ0Tgo",
        "colab_type": "code",
        "colab": {}
      },
      "source": [
        "import os\n",
        "PATH= os.path.join(\"/content/kvasir-dataset-v2/kvasir-dataset-v2\")"
      ],
      "execution_count": 0,
      "outputs": []
    },
    {
      "cell_type": "code",
      "metadata": {
        "id": "eVtfZNYp0nna",
        "colab_type": "code",
        "colab": {}
      },
      "source": [
        "image_dataset = ImageDataGenerator(rescale=1./255,validation_split=0.2,height_shift_range=.15,\n",
        "                                          width_shift_range=.15,\n",
        "                                          zoom_range=0.5,\n",
        "                                          vertical_flip=True,\n",
        "                                          rotation_range=45)"
      ],
      "execution_count": 0,
      "outputs": []
    },
    {
      "cell_type": "code",
      "metadata": {
        "id": "ISjJyC2H24Me",
        "colab_type": "code",
        "colab": {}
      },
      "source": [
        "epochs = 25\n",
        "batch_size = 32"
      ],
      "execution_count": 0,
      "outputs": []
    },
    {
      "cell_type": "code",
      "metadata": {
        "id": "NGGx52y11ZfB",
        "colab_type": "code",
        "colab": {
          "base_uri": "https://localhost:8080/",
          "height": 51
        },
        "outputId": "9f582038-9f93-4a7a-8ea9-7ec01c9ca19c"
      },
      "source": [
        "# Flow training images in batches of 20 using train_datagen generator\n",
        "train_generator = image_dataset.flow_from_directory(\n",
        "                PATH,  # Source directory for the training images\n",
        "                target_size=(img_rows, img_cols),\n",
        "                batch_size=batch_size,\n",
        "                class_mode='categorical',\n",
        "                shuffle=True,\n",
        "                subset='training',\n",
        "                seed = 52)\n",
        "\n",
        "# Flow validation images in batches of 20 using test_datagen generator\n",
        "validation_generator = image_dataset.flow_from_directory(\n",
        "                PATH, # Source directory for the validation images\n",
        "                target_size=(img_rows, img_cols),\n",
        "                batch_size=batch_size,\n",
        "                class_mode='categorical',\n",
        "                shuffle=True,\n",
        "                subset='validation',\n",
        "                seed = 52)"
      ],
      "execution_count": 66,
      "outputs": [
        {
          "output_type": "stream",
          "text": [
            "Found 6400 images belonging to 8 classes.\n",
            "Found 1600 images belonging to 8 classes.\n"
          ],
          "name": "stdout"
        }
      ]
    },
    {
      "cell_type": "code",
      "metadata": {
        "id": "dVJ7R4eH3ANF",
        "colab_type": "code",
        "colab": {}
      },
      "source": [
        "from tensorflow.keras.optimizers import RMSprop,Adam\n",
        "from tensorflow.keras.callbacks import ModelCheckpoint,EarlyStopping,ReduceLROnPlateau\n",
        "\n",
        "checkpoint = ModelCheckpoint(\n",
        "                             'kvasir.h5',\n",
        "                             monitor='val_loss',\n",
        "                             mode='min',\n",
        "                             save_best_only=True,\n",
        "                             verbose=1)\n",
        "\n",
        "earlystop = EarlyStopping(\n",
        "                          monitor='val_loss',\n",
        "                          min_delta=0,\n",
        "                          patience=10,\n",
        "                          verbose=1,restore_best_weights=True)\n",
        "\n",
        "learning_rate_reduction = ReduceLROnPlateau(monitor='val_accuracy', \n",
        "                                            patience=5, \n",
        "                                            verbose=1, \n",
        "                                            factor=0.2, \n",
        "                                            min_lr=0.0001)\n",
        "\n",
        "callbacks = [earlystop,checkpoint,learning_rate_reduction]"
      ],
      "execution_count": 0,
      "outputs": []
    },
    {
      "cell_type": "code",
      "metadata": {
        "id": "07ZLmczD3154",
        "colab_type": "code",
        "colab": {}
      },
      "source": [
        "model.compile(loss='categorical_crossentropy',\n",
        "              optimizer=Adam(lr=0.001),\n",
        "              metrics=['accuracy']\n",
        "              )"
      ],
      "execution_count": 0,
      "outputs": []
    },
    {
      "cell_type": "code",
      "metadata": {
        "id": "E1QT-i-q39bW",
        "colab_type": "code",
        "colab": {}
      },
      "source": [
        "nb_train_samples = 6400\n",
        "nb_validation_samples = 1600\n"
      ],
      "execution_count": 0,
      "outputs": []
    },
    {
      "cell_type": "code",
      "metadata": {
        "id": "dBWsu3vo4GOn",
        "colab_type": "code",
        "colab": {
          "base_uri": "https://localhost:8080/",
          "height": 1000
        },
        "outputId": "3fc9c648-0ca5-4387-f143-13fbf5eb044d"
      },
      "source": [
        "history = model.fit_generator(\n",
        "            train_generator,\n",
        "            steps_per_epoch=nb_train_samples//batch_size,\n",
        "            epochs=epochs,\n",
        "            callbacks=callbacks,\n",
        "            validation_data=validation_generator,\n",
        "            validation_steps=nb_validation_samples//batch_size)"
      ],
      "execution_count": 70,
      "outputs": [
        {
          "output_type": "stream",
          "text": [
            "Epoch 1/25\n",
            "200/200 [==============================] - ETA: 0s - loss: 0.7029 - accuracy: 0.7252\n",
            "Epoch 00001: val_loss improved from inf to 0.52001, saving model to kvasir.h5\n",
            "200/200 [==============================] - 484s 2s/step - loss: 0.7029 - accuracy: 0.7252 - val_loss: 0.5200 - val_accuracy: 0.7925 - lr: 0.0010\n",
            "Epoch 2/25\n",
            "200/200 [==============================] - ETA: 0s - loss: 0.4895 - accuracy: 0.7939\n",
            "Epoch 00002: val_loss did not improve from 0.52001\n",
            "200/200 [==============================] - 490s 2s/step - loss: 0.4895 - accuracy: 0.7939 - val_loss: 0.6578 - val_accuracy: 0.7688 - lr: 0.0010\n",
            "Epoch 3/25\n",
            "200/200 [==============================] - ETA: 0s - loss: 0.4474 - accuracy: 0.8170\n",
            "Epoch 00003: val_loss improved from 0.52001 to 0.50242, saving model to kvasir.h5\n",
            "200/200 [==============================] - 490s 2s/step - loss: 0.4474 - accuracy: 0.8170 - val_loss: 0.5024 - val_accuracy: 0.8000 - lr: 0.0010\n",
            "Epoch 4/25\n",
            "200/200 [==============================] - ETA: 0s - loss: 0.4352 - accuracy: 0.8236\n",
            "Epoch 00004: val_loss did not improve from 0.50242\n",
            "200/200 [==============================] - 495s 2s/step - loss: 0.4352 - accuracy: 0.8236 - val_loss: 0.5486 - val_accuracy: 0.7969 - lr: 0.0010\n",
            "Epoch 5/25\n",
            "200/200 [==============================] - ETA: 0s - loss: 0.4121 - accuracy: 0.8377\n",
            "Epoch 00005: val_loss improved from 0.50242 to 0.43081, saving model to kvasir.h5\n",
            "200/200 [==============================] - 490s 2s/step - loss: 0.4121 - accuracy: 0.8377 - val_loss: 0.4308 - val_accuracy: 0.8206 - lr: 0.0010\n",
            "Epoch 6/25\n",
            "200/200 [==============================] - ETA: 0s - loss: 0.3958 - accuracy: 0.8420\n",
            "Epoch 00006: val_loss did not improve from 0.43081\n",
            "200/200 [==============================] - 486s 2s/step - loss: 0.3958 - accuracy: 0.8420 - val_loss: 0.4762 - val_accuracy: 0.7831 - lr: 0.0010\n",
            "Epoch 7/25\n",
            "200/200 [==============================] - ETA: 0s - loss: 0.3777 - accuracy: 0.8487\n",
            "Epoch 00007: val_loss improved from 0.43081 to 0.41157, saving model to kvasir.h5\n",
            "200/200 [==============================] - 482s 2s/step - loss: 0.3777 - accuracy: 0.8487 - val_loss: 0.4116 - val_accuracy: 0.8356 - lr: 0.0010\n",
            "Epoch 8/25\n",
            "200/200 [==============================] - ETA: 0s - loss: 0.3699 - accuracy: 0.8480\n",
            "Epoch 00008: val_loss did not improve from 0.41157\n",
            "200/200 [==============================] - 490s 2s/step - loss: 0.3699 - accuracy: 0.8480 - val_loss: 0.5511 - val_accuracy: 0.8031 - lr: 0.0010\n",
            "Epoch 9/25\n",
            "200/200 [==============================] - ETA: 0s - loss: 0.3745 - accuracy: 0.8444\n",
            "Epoch 00009: val_loss did not improve from 0.41157\n",
            "200/200 [==============================] - 492s 2s/step - loss: 0.3745 - accuracy: 0.8444 - val_loss: 0.4260 - val_accuracy: 0.8194 - lr: 0.0010\n",
            "Epoch 10/25\n",
            "200/200 [==============================] - ETA: 0s - loss: 0.3586 - accuracy: 0.8569\n",
            "Epoch 00010: val_loss did not improve from 0.41157\n",
            "200/200 [==============================] - 494s 2s/step - loss: 0.3586 - accuracy: 0.8569 - val_loss: 0.4313 - val_accuracy: 0.8313 - lr: 0.0010\n",
            "Epoch 11/25\n",
            "200/200 [==============================] - ETA: 0s - loss: 0.3545 - accuracy: 0.8575\n",
            "Epoch 00011: val_loss did not improve from 0.41157\n",
            "200/200 [==============================] - 486s 2s/step - loss: 0.3545 - accuracy: 0.8575 - val_loss: 0.4535 - val_accuracy: 0.8231 - lr: 0.0010\n",
            "Epoch 12/25\n",
            "200/200 [==============================] - ETA: 0s - loss: 0.3349 - accuracy: 0.8662\n",
            "Epoch 00012: val_loss did not improve from 0.41157\n",
            "\n",
            "Epoch 00012: ReduceLROnPlateau reducing learning rate to 0.00020000000949949026.\n",
            "200/200 [==============================] - 488s 2s/step - loss: 0.3349 - accuracy: 0.8662 - val_loss: 0.4256 - val_accuracy: 0.8356 - lr: 0.0010\n",
            "Epoch 13/25\n",
            "200/200 [==============================] - ETA: 0s - loss: 0.2874 - accuracy: 0.8808\n",
            "Epoch 00013: val_loss improved from 0.41157 to 0.38309, saving model to kvasir.h5\n",
            "200/200 [==============================] - 510s 3s/step - loss: 0.2874 - accuracy: 0.8808 - val_loss: 0.3831 - val_accuracy: 0.8425 - lr: 2.0000e-04\n",
            "Epoch 14/25\n",
            "200/200 [==============================] - ETA: 0s - loss: 0.2928 - accuracy: 0.8809\n",
            "Epoch 00014: val_loss did not improve from 0.38309\n",
            "200/200 [==============================] - 524s 3s/step - loss: 0.2928 - accuracy: 0.8809 - val_loss: 0.4134 - val_accuracy: 0.8363 - lr: 2.0000e-04\n",
            "Epoch 15/25\n",
            "200/200 [==============================] - ETA: 0s - loss: 0.2916 - accuracy: 0.8797\n",
            "Epoch 00015: val_loss improved from 0.38309 to 0.37651, saving model to kvasir.h5\n",
            "200/200 [==============================] - 501s 3s/step - loss: 0.2916 - accuracy: 0.8797 - val_loss: 0.3765 - val_accuracy: 0.8462 - lr: 2.0000e-04\n",
            "Epoch 16/25\n",
            "200/200 [==============================] - ETA: 0s - loss: 0.2776 - accuracy: 0.8845\n",
            "Epoch 00016: val_loss did not improve from 0.37651\n",
            "200/200 [==============================] - 489s 2s/step - loss: 0.2776 - accuracy: 0.8845 - val_loss: 0.3868 - val_accuracy: 0.8475 - lr: 2.0000e-04\n",
            "Epoch 17/25\n",
            "200/200 [==============================] - ETA: 0s - loss: 0.2864 - accuracy: 0.8820\n",
            "Epoch 00017: val_loss did not improve from 0.37651\n",
            "200/200 [==============================] - 486s 2s/step - loss: 0.2864 - accuracy: 0.8820 - val_loss: 0.4034 - val_accuracy: 0.8462 - lr: 2.0000e-04\n",
            "Epoch 18/25\n",
            "200/200 [==============================] - ETA: 0s - loss: 0.2768 - accuracy: 0.8866\n",
            "Epoch 00018: val_loss did not improve from 0.37651\n",
            "200/200 [==============================] - 488s 2s/step - loss: 0.2768 - accuracy: 0.8866 - val_loss: 0.4037 - val_accuracy: 0.8381 - lr: 2.0000e-04\n",
            "Epoch 19/25\n",
            "200/200 [==============================] - ETA: 0s - loss: 0.2702 - accuracy: 0.8869\n",
            "Epoch 00019: val_loss improved from 0.37651 to 0.35962, saving model to kvasir.h5\n",
            "200/200 [==============================] - 501s 3s/step - loss: 0.2702 - accuracy: 0.8869 - val_loss: 0.3596 - val_accuracy: 0.8544 - lr: 2.0000e-04\n",
            "Epoch 20/25\n",
            "200/200 [==============================] - ETA: 0s - loss: 0.2697 - accuracy: 0.8861\n",
            "Epoch 00020: val_loss did not improve from 0.35962\n",
            "200/200 [==============================] - 544s 3s/step - loss: 0.2697 - accuracy: 0.8861 - val_loss: 0.3998 - val_accuracy: 0.8300 - lr: 2.0000e-04\n",
            "Epoch 21/25\n",
            "200/200 [==============================] - ETA: 0s - loss: 0.2618 - accuracy: 0.8898\n",
            "Epoch 00021: val_loss improved from 0.35962 to 0.35769, saving model to kvasir.h5\n",
            "200/200 [==============================] - 512s 3s/step - loss: 0.2618 - accuracy: 0.8898 - val_loss: 0.3577 - val_accuracy: 0.8569 - lr: 2.0000e-04\n",
            "Epoch 22/25\n",
            "200/200 [==============================] - ETA: 0s - loss: 0.2626 - accuracy: 0.8916\n",
            "Epoch 00022: val_loss did not improve from 0.35769\n",
            "200/200 [==============================] - 487s 2s/step - loss: 0.2626 - accuracy: 0.8916 - val_loss: 0.3799 - val_accuracy: 0.8450 - lr: 2.0000e-04\n",
            "Epoch 23/25\n",
            "200/200 [==============================] - ETA: 0s - loss: 0.2754 - accuracy: 0.8803\n",
            "Epoch 00023: val_loss did not improve from 0.35769\n",
            "200/200 [==============================] - 485s 2s/step - loss: 0.2754 - accuracy: 0.8803 - val_loss: 0.3795 - val_accuracy: 0.8537 - lr: 2.0000e-04\n",
            "Epoch 24/25\n",
            "200/200 [==============================] - ETA: 0s - loss: 0.2639 - accuracy: 0.8894\n",
            "Epoch 00024: val_loss improved from 0.35769 to 0.33848, saving model to kvasir.h5\n",
            "200/200 [==============================] - 499s 2s/step - loss: 0.2639 - accuracy: 0.8894 - val_loss: 0.3385 - val_accuracy: 0.8619 - lr: 2.0000e-04\n",
            "Epoch 25/25\n",
            "200/200 [==============================] - ETA: 0s - loss: 0.2553 - accuracy: 0.8967\n",
            "Epoch 00025: val_loss did not improve from 0.33848\n",
            "200/200 [==============================] - 497s 2s/step - loss: 0.2553 - accuracy: 0.8967 - val_loss: 0.3933 - val_accuracy: 0.8481 - lr: 2.0000e-04\n"
          ],
          "name": "stdout"
        }
      ]
    },
    {
      "cell_type": "code",
      "metadata": {
        "id": "gcujy8AT4Lm6",
        "colab_type": "code",
        "colab": {}
      },
      "source": [
        ""
      ],
      "execution_count": 0,
      "outputs": []
    }
  ]
}